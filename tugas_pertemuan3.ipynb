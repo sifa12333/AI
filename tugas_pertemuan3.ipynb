{
  "nbformat": 4,
  "nbformat_minor": 0,
  "metadata": {
    "colab": {
      "provenance": [],
      "authorship_tag": "ABX9TyN365O+6QML4JdtEbr0r+lX",
      "include_colab_link": true
    },
    "kernelspec": {
      "name": "python3",
      "display_name": "Python 3"
    },
    "language_info": {
      "name": "python"
    }
  },
  "cells": [
    {
      "cell_type": "markdown",
      "metadata": {
        "id": "view-in-github",
        "colab_type": "text"
      },
      "source": [
        "<a href=\"https://colab.research.google.com/github/sifa12333/AI/blob/main/tugas_pertemuan3.ipynb\" target=\"_parent\"><img src=\"https://colab.research.google.com/assets/colab-badge.svg\" alt=\"Open In Colab\"/></a>"
      ]
    },
    {
      "cell_type": "code",
      "source": [
        "# Program Vigenere Cipher sederhana + Analisis Frekuensi\n",
        "\n",
        "# Fungsi untuk enkripsi\n",
        "def vigenere_encrypt(plaintext, key):\n",
        "    plaintext = plaintext.upper().replace(\" \", \"\")\n",
        "    key = key.upper()\n",
        "    ciphertext = \"\"\n",
        "\n",
        "    key_index = 0\n",
        "    for char in plaintext:\n",
        "        # Geser huruf (A=0, B=1, dst)\n",
        "        p = ord(char) - ord('A')\n",
        "        k = ord(key[key_index % len(key)]) - ord('A')\n",
        "        c = (p + k) % 26\n",
        "        ciphertext += chr(c + ord('A'))\n",
        "        key_index += 1\n",
        "\n",
        "    return ciphertext\n",
        "\n",
        "\n",
        "# Fungsi analisis frekuensi\n",
        "def frequency_analysis(text):\n",
        "    text = text.upper()\n",
        "    freq = {}\n",
        "    for char in text:\n",
        "        if char.isalpha():\n",
        "            freq[char] = freq.get(char, 0) + 1\n",
        "    return freq\n",
        "\n",
        "\n",
        "# ==== INPUT ====\n",
        "plaintext = input(\"Masukkan plaintext: \")\n",
        "key = input(\"Masukkan key: \")\n",
        "\n",
        "# ==== PROSES ====\n",
        "ciphertext = vigenere_encrypt(plaintext, key)\n",
        "freq = frequency_analysis(ciphertext)\n",
        "\n",
        "# ==== OUTPUT ====\n",
        "print(\"\\n=== HASIL ENKRIPSI ===\")\n",
        "print(\"Ciphertext :\", ciphertext)\n",
        "\n",
        "print(\"\\n=== ANALISIS FREKUENSI ===\")\n",
        "for huruf, jumlah in sorted(freq.items()):\n",
        "    print(f\"{huruf} : {jumlah}\")\n"
      ],
      "metadata": {
        "colab": {
          "base_uri": "https://localhost:8080/"
        },
        "id": "ygY4Ey6Q0QJ5",
        "outputId": "ca6b02cf-dc36-4f75-97a6-c717a337ed2f"
      },
      "execution_count": 4,
      "outputs": [
        {
          "output_type": "stream",
          "name": "stdout",
          "text": [
            "Masukkan plaintext: kriptografi\n",
            "Masukkan key: seru\n",
            "\n",
            "=== HASIL ENKRIPSI ===\n",
            "Ciphertext : CVZJLSXLSJZ\n",
            "\n",
            "=== ANALISIS FREKUENSI ===\n",
            "C : 1\n",
            "J : 2\n",
            "L : 2\n",
            "S : 2\n",
            "V : 1\n",
            "X : 1\n",
            "Z : 2\n"
          ]
        }
      ]
    }
  ]
}